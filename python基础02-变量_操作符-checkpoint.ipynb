{
 "cells": [
  {
   "cell_type": "markdown",
   "metadata": {},
   "source": [
    "# 字符串\n",
    "- 转义字符\n",
    "- 格式化\n",
    "- 内建函数(后延)\n",
    "\n",
    "## 转义字符\n",
    "- 用一个特殊的方法表示出一系列不方便写出的内容, 比如回车键, 换行键, 退格键\n",
    "- 借助反斜杆字符, 一旦字符串中出现反斜杆, 则后面一个或几个字符表示已经不是原来的意思理论,进行了转义\n",
    "- 在字符串中, 一旦出现反斜杆就要加倍小心, 可能有转义字符出现\n",
    "- 不同系统对换行操作有不同的表示\n",
    "    - Windows: \\n\n",
    "    - Linux: \\r\\n\n"
   ]
  },
  {
   "cell_type": "code",
   "execution_count": 1,
   "metadata": {},
   "outputs": [
    {
     "name": "stdout",
     "output_type": "stream",
     "text": [
      "i love wang\n"
     ]
    }
   ],
   "source": [
    "s = 'i love wang'\n",
    "print(s)"
   ]
  },
  {
   "cell_type": "code",
   "execution_count": 5,
   "metadata": {},
   "outputs": [
    {
     "name": "stdout",
     "output_type": "stream",
     "text": [
      "Let's go\n",
      "Let's go\n",
      "c:\\user\n",
      "I love \r\n",
      " wang\n"
     ]
    }
   ],
   "source": [
    "#如果想表示出Let's go\n",
    "# 1. 可以使用嵌套引导, 即外层使用双引导\n",
    "# 2. 转义字符\n",
    "\n",
    "s = \"Let's go\"\n",
    "print(s)\n",
    "\n",
    "#/' == '\n",
    "ss = 'Let\\'s go'\n",
    "print(ss)\n",
    "\n",
    "# \\\\ = \\\n",
    "sss = \"c:\\\\user\"\n",
    "print(sss)\n",
    "\n",
    "# 回车换行符\n",
    "s1 = \"I love \\r\\n wang\"\n",
    "print(s1)"
   ]
  },
  {
   "cell_type": "markdown",
   "metadata": {},
   "source": [
    "## 字符串的格式化\n",
    "- 把字符串按照一定格式打印或者填充\n",
    "- 格式化有两种方法\n",
    "    - 利用百分号 (%)\n",
    "    - 利用format函数"
   ]
  },
  {
   "cell_type": "code",
   "execution_count": 6,
   "metadata": {},
   "outputs": [],
   "source": [
    "s = \"xxx 您好, 我们图灵学院开课了, 免费的Python呀, 不学白不学, 学了也白学\""
   ]
  },
  {
   "cell_type": "markdown",
   "metadata": {},
   "source": [
    "### 利用百分号格式化\n",
    "- 在字符串中, 利用%表示一个特殊的含义, 表示对字符串进行格式化\n",
    "- %d: 此处应该放一个整数\n",
    "- %s: 表示此处应该放一个字符串"
   ]
  },
  {
   "cell_type": "code",
   "execution_count": 8,
   "metadata": {},
   "outputs": [
    {
     "name": "stdout",
     "output_type": "stream",
     "text": [
      "I love %s\n"
     ]
    }
   ],
   "source": [
    "s = \"I love %s\"\n",
    "# 下面打印, 直接把%s作为字符串的一个内容打印出来\n",
    "print(s)"
   ]
  },
  {
   "cell_type": "code",
   "execution_count": 9,
   "metadata": {},
   "outputs": [
    {
     "name": "stdout",
     "output_type": "stream",
     "text": [
      "I love wang\n"
     ]
    }
   ],
   "source": [
    "print(\"I love %s\"%\"wang\")"
   ]
  },
  {
   "cell_type": "code",
   "execution_count": 10,
   "metadata": {},
   "outputs": [
    {
     "name": "stdout",
     "output_type": "stream",
     "text": [
      "I love wa\n"
     ]
    }
   ],
   "source": [
    "print(s%\"wa\")"
   ]
  },
  {
   "cell_type": "code",
   "execution_count": 15,
   "metadata": {},
   "outputs": [
    {
     "name": "stdout",
     "output_type": "stream",
     "text": [
      "I am %d years old\n",
      "I am 18 years old\n"
     ]
    }
   ],
   "source": [
    "s = \"I am %d years old\"\n",
    "print(s)\n",
    "print(s%18)"
   ]
  },
  {
   "cell_type": "code",
   "execution_count": 22,
   "metadata": {},
   "outputs": [
    {
     "name": "stdout",
     "output_type": "stream",
     "text": [
      "I am %s, i am %d years old\n",
      "I am 王, i am 18 years old\n"
     ]
    }
   ],
   "source": [
    "s = \"I am %s, i am %d years old\"\n",
    "print(s)\n",
    "# 注意以下表示出错的原因\n",
    "# 如果字符串中有占位符, 则有几个占位符必须用几个实际内容代替,或者一个也不要\n",
    "print(s%(\"王\",18))"
   ]
  },
  {
   "cell_type": "markdown",
   "metadata": {},
   "source": [
    "###  format 函数格式化字符串\n",
    "- 直接用format函数进行格式化\n",
    "- 推荐使用这种方法\n",
    "- 在使用上, 以{}和: 代替%号, 后面用format带参数完成"
   ]
  },
  {
   "cell_type": "code",
   "execution_count": 26,
   "metadata": {},
   "outputs": [
    {
     "name": "stdout",
     "output_type": "stream",
     "text": [
      "I love xu\n",
      "Yes, i am 18 years old, I love xu and i am 18 years old\n"
     ]
    }
   ],
   "source": [
    "s = \"I love {}\".format(\"xu\")\n",
    "print(s)\n",
    "\n",
    "s = \"Yes, i am {1} years old, I love {0} and i am {1} years old\".format(\"xu\",18)\n",
    "print(s)"
   ]
  },
  {
   "cell_type": "markdown",
   "metadata": {},
   "source": [
    "## None\n",
    "- 表示什么都没有\n",
    "- 如果函数没有返回值, 可以返回 None\n",
    "- 用来占位置\n",
    "- 用来解除变量绑定"
   ]
  },
  {
   "cell_type": "markdown",
   "metadata": {},
   "source": [
    "# 表达式\n",
    "- 由一个或者几个数字或变量和运算符组合成的一行代码\n",
    "- 通常会返回一个结果\n",
    "# 运算符\n",
    "- 由一个以上的值经过变化得到新值得过程就叫运算\n",
    "- 用于运算的符号叫运算符\n",
    "- 运算符分类:\n",
    "    - 算数运算符\n",
    "    - 比较或者关系运算符\n",
    "    - 赋值运算符\n",
    "    - 逻辑运算符\n",
    "    - 位运算\n",
    "    - 成员运算符\n",
    "    - 身份运算符"
   ]
  },
  {
   "cell_type": "markdown",
   "metadata": {},
   "source": [
    "## 算数运算符\n",
    "- 进行算数运算的符号\n",
    "- Python没有自增自减运算符"
   ]
  },
  {
   "cell_type": "code",
   "execution_count": 5,
   "metadata": {},
   "outputs": [
    {
     "name": "stdout",
     "output_type": "stream",
     "text": [
      "8\n",
      "36\n",
      "2.25\n",
      "1\n",
      "2\n",
      "16\n"
     ]
    }
   ],
   "source": [
    "# +, - 跟正常算术运算符 一样\n",
    "a = 9+2-3\n",
    "print(a)\n",
    "# 乘号用星号(*)代替\n",
    "a = 9*4\n",
    "print(a)\n",
    "# 除号用斜杆(/)代替\n",
    "# 在Python2.x 和Python3.x 中, 除号(/)结果可能不一致, 此处以3系列为准\n",
    "a = 9/4 #python2.x 中表示取整,结果为2\n",
    "print(a)\n",
    "\n",
    "# % 取余运算\n",
    "# 两个数字相除应该有商数有余数\n",
    "# %只会得到余数\n",
    "a = 9 % 4\n",
    "print(a)\n",
    "\n",
    "# // 表示取商运算, 也叫地板除\n",
    "a = 9 // 4\n",
    "print(a)\n",
    "\n",
    "# ** 表示幂运算\n",
    "a = 2 ** 4\n",
    "print(a)"
   ]
  },
  {
   "cell_type": "markdown",
   "metadata": {},
   "source": [
    "## 比较 运算符\n",
    "- 对两个变量或者值进行比较的运算符\n",
    "- 比较的结果是布尔值, 即Ture/False"
   ]
  },
  {
   "cell_type": "code",
   "execution_count": 9,
   "metadata": {},
   "outputs": [
    {
     "name": "stdout",
     "output_type": "stream",
     "text": [
      "False\n",
      "81\n",
      "True\n"
     ]
    }
   ],
   "source": [
    "# == , 等于号\n",
    "a = 3 ** 4\n",
    "# 下面语句执行顺序是\n",
    "# 1. 计算 a == 80\n",
    "# 2. 把结果放入b中\n",
    "b = a == 80\n",
    "print(b)\n",
    "print(a)\n",
    "\n",
    "# != 不等于\n",
    "print(9 != 8)"
   ]
  },
  {
   "cell_type": "markdown",
   "metadata": {},
   "source": [
    "## 赋值运算符\n"
   ]
  },
  {
   "cell_type": "code",
   "execution_count": 11,
   "metadata": {},
   "outputs": [
    {
     "name": "stdout",
     "output_type": "stream",
     "text": [
      "7\n"
     ]
    }
   ],
   "source": [
    "# = , 赋值\n",
    "a = 0\n",
    "c = a = 4\n",
    "\n",
    "# +=, 是缩写\n",
    "a = 0\n",
    "a += 7  # a = a + 7 的缩写\n",
    "print(a)\n",
    "\n",
    "# 所有的数学运算符都有缩写形式\n",
    "# -=, *=, /=, //=, **=, %="
   ]
  },
  {
   "cell_type": "markdown",
   "metadata": {},
   "source": [
    "# 逻辑运算符\n",
    "- 对布尔值进行计算的符号\n",
    "- and 逻辑与\n",
    "- or 逻辑或\n",
    "- not 逻辑非\n",
    "- Python中逻辑运算没有异或运算\n",
    "- 运算规则:\n",
    "    - and看做乘法, or看做加法,\n",
    "    - True看做1, False看做0\n",
    "    - 则逻辑运算符就能转换成整数数学运算\n",
    "    - 最后结果如果是0则为False, 否则为Ture\n",
    "- 逻辑运算的短路问题\n",
    "    - 逻辑运算式, 按照运算顺序计算, 一旦能够确定整个式子未来的值, 则不再进行计算, 直接返回"
   ]
  },
  {
   "cell_type": "code",
   "execution_count": 12,
   "metadata": {},
   "outputs": [
    {
     "name": "stdout",
     "output_type": "stream",
     "text": [
      "True\n",
      "True\n"
     ]
    }
   ],
   "source": [
    "# 逻辑运符案例\n",
    "a = True\n",
    "b = False\n",
    "c = True\n",
    "\n",
    "# 以下式子等价于 d = 1 * 0 + 1\n",
    "d = a and b or c\n",
    "print(d)\n",
    "\n",
    "d = a or b and a\n",
    "print(d)\n"
   ]
  },
  {
   "cell_type": "code",
   "execution_count": 16,
   "metadata": {},
   "outputs": [
    {
     "ename": "SyntaxError",
     "evalue": "invalid syntax (<ipython-input-16-3bf0eada7179>, line 10)",
     "output_type": "error",
     "traceback": [
      "\u001b[1;36m  File \u001b[1;32m\"<ipython-input-16-3bf0eada7179>\"\u001b[1;36m, line \u001b[1;32m10\u001b[0m\n\u001b[1;33m    a = a or (b=9) and 6\u001b[0m\n\u001b[1;37m               ^\u001b[0m\n\u001b[1;31mSyntaxError\u001b[0m\u001b[1;31m:\u001b[0m invalid syntax\n"
     ]
    }
   ],
   "source": [
    "# 逻辑运算的短路案例\n",
    "\n",
    "# 下面的逻辑表达式, a的值一定是Ture, 则运行到or的时候, 整个表达式不在向下计算\n",
    "a = True or xxxxxxx\n",
    "print(a)\n",
    "\n",
    "# 下面表达式, 如果xxx中包含赋值表达式, 则结果很难预测\n",
    "# 代码示例(伪代码)\n",
    "b = 9\n",
    "a = a or (b=9) and 6\n",
    "# 假定上面表达式如果没有语法错误\n",
    "# 则b最终的值应该是0而不是9\n",
    "print(a)\n",
    "print(b)"
   ]
  },
  {
   "cell_type": "markdown",
   "metadata": {},
   "source": [
    "# 成员运算符\n",
    "- 用来检测某个变量是否是另一个变量的成员\n",
    "- in \n",
    "- not in"
   ]
  },
  {
   "cell_type": "code",
   "execution_count": 20,
   "metadata": {},
   "outputs": [
    {
     "name": "stdout",
     "output_type": "stream",
     "text": [
      "False\n",
      "True\n",
      "False\n"
     ]
    }
   ],
   "source": [
    "# 案例\n",
    "l = [1,2,3,4,5]\n",
    "a = 7\n",
    "\n",
    "b = a in l\n",
    "print(b)\n",
    "\n",
    "a = 4\n",
    "print(a in l)\n",
    "print(a not in l)"
   ]
  },
  {
   "cell_type": "markdown",
   "metadata": {},
   "source": [
    "## 身份运算\n",
    "- is: 用来检测两个变量是否是同一个变量\n",
    "    - 语法就是  var1 is var2\n",
    "- is not: 两个变量不是同一个变量"
   ]
  },
  {
   "cell_type": "code",
   "execution_count": 22,
   "metadata": {},
   "outputs": [
    {
     "name": "stdout",
     "output_type": "stream",
     "text": [
      "True\n",
      "False\n"
     ]
    }
   ],
   "source": [
    "a = 9\n",
    "b = 9\n",
    "print(a is b)\n",
    "\n",
    "a = \"I love wang\"\n",
    "b = \"I love wang\"\n",
    "print(a is b)"
   ]
  },
  {
   "cell_type": "markdown",
   "metadata": {},
   "source": [
    "## 运算符的优先级问题\n",
    "- 永远记住, 括号具有最高优先级\n",
    "- 优先级表格\n",
    "    - ** 指数(具有最高优先级)\n",
    "    - ~ + -  按为翻转, 一元加好和减号 (最后两个方法名为 +@ 和 -@)\n",
    "    - * / % //   乘, 除, 取余和取整除\n",
    "    - + -  加法 减法\n",
    "    - >>  <<  右移, 左移\n",
    "    - &  位 'AND'\n",
    "    - ^ | 位运算符\n",
    "    - <= < > >= 比较运算符\n",
    "    - <> == !=  等于运算符\n",
    "    - = %= /= //= -= += *= **= 赋值运算符\n",
    "    - is is not 身份运算符\n",
    "    - in not in 成员运算符\n",
    "    - not or and 逻辑运算符\n",
    "    "
   ]
  },
  {
   "cell_type": "markdown",
   "metadata": {},
   "source": [
    "# 程序结构\n",
    "- 顺序\n",
    "- 分支\n",
    "- 循环"
   ]
  },
  {
   "cell_type": "code",
   "execution_count": null,
   "metadata": {},
   "outputs": [],
   "source": []
  }
 ],
 "metadata": {
  "kernelspec": {
   "display_name": "Python 3",
   "language": "python",
   "name": "python3"
  },
  "language_info": {
   "codemirror_mode": {
    "name": "ipython",
    "version": 3
   },
   "file_extension": ".py",
   "mimetype": "text/x-python",
   "name": "python",
   "nbconvert_exporter": "python",
   "pygments_lexer": "ipython3",
   "version": "3.7.0"
  }
 },
 "nbformat": 4,
 "nbformat_minor": 2
}
